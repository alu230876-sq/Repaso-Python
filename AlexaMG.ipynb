{
  "nbformat": 4,
  "nbformat_minor": 0,
  "metadata": {
    "colab": {
      "provenance": [],
      "authorship_tag": "ABX9TyO9VJ2buY9CnaaXQA6FutM+",
      "include_colab_link": true
    },
    "kernelspec": {
      "name": "python3",
      "display_name": "Python 3"
    },
    "language_info": {
      "name": "python"
    }
  },
  "cells": [
    {
      "cell_type": "markdown",
      "metadata": {
        "id": "view-in-github",
        "colab_type": "text"
      },
      "source": [
        "<a href=\"https://colab.research.google.com/github/alu230876-sq/Repaso-Python/blob/main/AlexaMG.ipynb\" target=\"_parent\"><img src=\"https://colab.research.google.com/assets/colab-badge.svg\" alt=\"Open In Colab\"/></a>"
      ]
    },
    {
      "cell_type": "code",
      "execution_count": null,
      "metadata": {
        "id": "l3oqnpj6z6tv"
      },
      "outputs": [],
      "source": []
    },
    {
      "cell_type": "markdown",
      "source": [
        "Programa 1 en python para imprimir mi nombre con hola mundo"
      ],
      "metadata": {
        "id": "9gShLB4G0OPr"
      }
    },
    {
      "cell_type": "code",
      "source": [
        "print (\"Hola Mundo\")\n",
        "nombre=(input(\"Captura tu nombre:\"))\n",
        "print (nombre)"
      ],
      "metadata": {
        "colab": {
          "base_uri": "https://localhost:8080/"
        },
        "id": "5oeaNtOX0cUK",
        "outputId": "42a583af-a2bc-4f2f-f6c0-fd22bb966f22"
      },
      "execution_count": 2,
      "outputs": [
        {
          "output_type": "stream",
          "name": "stdout",
          "text": [
            "Hola Mundo\n",
            "Captura tu nombre:Alexa\n",
            "Alexa\n"
          ]
        }
      ]
    },
    {
      "cell_type": "markdown",
      "source": [
        "Programa 2 Capturar nombre, paterno y materno e incluirlo en pantalla"
      ],
      "metadata": {
        "id": "5tWnt-CQ1ZtY"
      }
    },
    {
      "cell_type": "code",
      "source": [
        "print (\"Ingresa tu nombre completo \")\n",
        "nombre= (input(\"Ingresa tu nombre:\"))\n",
        "print (\" \")\n",
        "ap= (input(\"Ingresa tu apellido paterno:\"))\n",
        "print (\" \")\n",
        "am= (input(\"Ingresa tu apellido materno:\"))\n",
        "print (\" \")\n",
        "print (nombre+\" \" + ap + \" \"+am)\n",
        "\n"
      ],
      "metadata": {
        "colab": {
          "base_uri": "https://localhost:8080/"
        },
        "id": "R908nlhb1lOn",
        "outputId": "be0b840a-cb69-4ad7-a987-9b4a0f4fb07f"
      },
      "execution_count": 4,
      "outputs": [
        {
          "output_type": "stream",
          "name": "stdout",
          "text": [
            "Ingresa tu nombre completo \n",
            "Ingresa tu nombre:Alexa\n",
            " \n",
            "Ingresa tu apellido paterno:Mata\n",
            " \n",
            "Ingresa tu apellido materno:Granillo\n",
            " \n",
            "Alexa Mata Granillo\n"
          ]
        }
      ]
    }
  ]
}