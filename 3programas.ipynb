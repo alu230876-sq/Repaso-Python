{
  "nbformat": 4,
  "nbformat_minor": 0,
  "metadata": {
    "colab": {
      "provenance": [],
      "authorship_tag": "ABX9TyNEMpF+J8uOwEhZiTa/zd2E",
      "include_colab_link": true
    },
    "kernelspec": {
      "name": "python3",
      "display_name": "Python 3"
    },
    "language_info": {
      "name": "python"
    }
  },
  "cells": [
    {
      "cell_type": "markdown",
      "metadata": {
        "id": "view-in-github",
        "colab_type": "text"
      },
      "source": [
        "<a href=\"https://colab.research.google.com/github/alu230876-sq/Repaso-Python/blob/main/3programas.ipynb\" target=\"_parent\"><img src=\"https://colab.research.google.com/assets/colab-badge.svg\" alt=\"Open In Colab\"/></a>"
      ]
    },
    {
      "cell_type": "code",
      "execution_count": null,
      "metadata": {
        "id": "VtAV5rbA5KLm"
      },
      "outputs": [],
      "source": []
    },
    {
      "cell_type": "markdown",
      "source": [
        "Ejercicios\n",
        "1. Realizar un programa en python que te permita capturar 2 numeros enteros e imprima la suma, la resta, la multiplicacion y la division de ambos\n",
        "2. Realizar un programa en python mediante el cual calcules el total de caracteres que tiene un nombre capturado desde el teclado\n",
        "3. Realizar un programa en python que te permita imprimir los 7 dias de la semana"
      ],
      "metadata": {
        "id": "QZX4oYAU5XJv"
      }
    },
    {
      "cell_type": "markdown",
      "source": [
        "Programa 1"
      ],
      "metadata": {
        "id": "3hKo6p9l5_cd"
      }
    },
    {
      "cell_type": "code",
      "source": [
        "print (\"-\")\n",
        "num1= int(input(\"Ingresa tu primer numero:\"))\n",
        "num2= int(input(\"Ingresa tu segundo numero:\"))\n",
        "\n",
        "suma = num1 + num2\n",
        "resta = num1 - num2\n",
        "multi = num1 * num2\n",
        "div = num1 / num2\n",
        "print (\"-\")\n",
        "print (\"Resulado de la suma: \" + str(suma))\n",
        "print (\"Resulado de la resta: \" + str(resta))\n",
        "print (\"Resulado de la multiplicacion: \" + str(multi))\n",
        "print (\"Resulado de la division: \" + str(div))"
      ],
      "metadata": {
        "colab": {
          "base_uri": "https://localhost:8080/"
        },
        "id": "ak8Udv296BXs",
        "outputId": "e25da4e6-e0ec-4e36-d6ce-9fa20b0c31bc"
      },
      "execution_count": 11,
      "outputs": [
        {
          "output_type": "stream",
          "name": "stdout",
          "text": [
            "-\n",
            "Ingresa tu primer numero:10\n",
            "Ingresa tu segundo numero:2\n",
            "-\n",
            "Resulado de la suma: 12\n",
            "Resulado de la resta: 8\n",
            "Resulado de la multiplicacion: 20\n",
            "Resulado de la division: 5.0\n"
          ]
        }
      ]
    },
    {
      "cell_type": "markdown",
      "source": [
        "Programa 2"
      ],
      "metadata": {
        "id": "6bTfdSIz8IjX"
      }
    },
    {
      "cell_type": "code",
      "source": [
        "print (\" \")\n",
        "palabra= (input(\"Ingresa tu nombre:\"))\n",
        "print (\" \")\n",
        "cant = len(palabra)\n",
        "print(\"La cantidad de caracteres en el nombre es: \" + str(cant))"
      ],
      "metadata": {
        "colab": {
          "base_uri": "https://localhost:8080/"
        },
        "id": "2HfUWzea8PfO",
        "outputId": "c92b1630-bcbb-4847-9143-86b0290aeac6"
      },
      "execution_count": 12,
      "outputs": [
        {
          "output_type": "stream",
          "name": "stdout",
          "text": [
            " \n",
            "Ingresa tu nombre:Granillo\n",
            " \n",
            "La cantidad de caracteres en el nombre es: 8\n"
          ]
        }
      ]
    },
    {
      "cell_type": "markdown",
      "source": [
        "Programa 3"
      ],
      "metadata": {
        "id": "vv_b6fkH9QAs"
      }
    },
    {
      "cell_type": "code",
      "source": [
        "print (\" \")\n",
        "print(\" Estos son los dias de la semana: \")\n",
        "print (\"-------- \")\n",
        "print (\"Lunes\")\n",
        "print (\"Martes\")\n",
        "print (\"Miercoles\")\n",
        "print (\"Jueves\")\n",
        "print (\"Viernes\")\n",
        "print (\"Sabado\")\n",
        "print (\"Domingo\")\n",
        "print (\"--------\")\n"
      ],
      "metadata": {
        "colab": {
          "base_uri": "https://localhost:8080/"
        },
        "id": "70xhg1ji9TmE",
        "outputId": "d6181100-d1a5-4ff4-a180-7673093df0b9"
      },
      "execution_count": 14,
      "outputs": [
        {
          "output_type": "stream",
          "name": "stdout",
          "text": [
            " \n",
            " Estos son los dias de la semana: \n",
            "-------- \n",
            "Lunes\n",
            "Martes\n",
            "Miercoles\n",
            "Jueves\n",
            "Viernes\n",
            "Sabado\n",
            "Domingo\n",
            "--------\n"
          ]
        }
      ]
    }
  ]
}